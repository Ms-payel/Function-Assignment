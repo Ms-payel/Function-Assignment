{
  "nbformat": 4,
  "nbformat_minor": 0,
  "metadata": {
    "colab": {
      "provenance": []
    },
    "kernelspec": {
      "name": "python3",
      "display_name": "Python 3"
    },
    "language_info": {
      "name": "python"
    }
  },
  "cells": [
    {
      "cell_type": "markdown",
      "source": [
        "1. What is the difference between a function and a method in Python?\n",
        "   \n",
        "   -> Function is block of code that is also called by its name. (independent)\n",
        "\n",
        "* The function can have different parameters or may not have any at all. If any data (parameters) are passed, they are passed explicitly.\n",
        "\n",
        "* It may or may not return any data.\n",
        "\n",
        "* Function does not deal with Class and its instance concept.\n",
        "\n",
        "Basic Function Structure in Python :\n",
        "\n",
        "def function_name ( arg1, arg2, ...) :\n",
        "    ......\n",
        "    # function body\n",
        "    ......\n",
        "\n",
        "User-Defined Function :\n",
        "\n",
        "def Subtract (a, b):\n",
        "    return (a-b)\n",
        "\n",
        "print( Subtract(10, 12) ) # prints -2\n",
        "\n",
        "print( Subtract(15, 6) ) # prints 9\n",
        "\n",
        "Inbuilt Function :\n",
        "\n",
        "s = sum([5, 15, 2])\n",
        "print( s ) # prints 22\n",
        "\n",
        "mx = max(15, 6)\n",
        "print( mx ) # prints 15\n",
        "\n",
        "Python Method :\n",
        "\n",
        "Method is called by its name, but it is associated to an object (dependent).\n",
        "\n",
        "A method definition always includes 'self' as its first parameter.\n",
        "\n",
        "A method is implicitly passed to the object on which it is invoked.\n",
        "It may or may not return any data.\n",
        "\n",
        "A method can operate on the data (instance variables) that is contained by the corresponding class\n",
        "\n",
        "Basic Method Structure in Python :\n",
        "\n",
        "class class_name\n",
        "    def method_name () :\n",
        "        ......\n",
        "        #method body\n",
        "        ......\n",
        "\n",
        " User-Defined Method :\n",
        "\n",
        "Python 3  User-Defined  Method\n",
        "\n",
        "class ABC :\n",
        "    \n",
        "def method_abc (self):\n",
        "        \n",
        "  print(\"I am in method_abc of ABC class. \")\n",
        "\n",
        "class_ref = ABC() # object of ABC class\n",
        "\n",
        "class_ref.method_abc()\n",
        "\n",
        "Inbuilt method :\n",
        "\n",
        "import math\n",
        "\n",
        "ceil_val = math.ceil(15.25)\n",
        "\n",
        "print( \"Ceiling value of 15.25 is : \", ceil_val) # Ceiling value of 15.25 is :  16\n",
        "\n",
        "\n",
        "\n"
      ],
      "metadata": {
        "id": "y3nXb6F3QK_h"
      }
    },
    {
      "cell_type": "markdown",
      "source": [
        "2.  Explain the concept of function arguments and parameters in Python.\n",
        "    \n",
        "    -> Arguments : An argument is a value that is passed to a function when it is called. It might be a variable, value or object passed to a function or method as input.\n",
        "\n",
        "    Example:\n",
        "def sum(a,b):\n",
        "     \n",
        "print(a+b)\n",
        "  \n",
        "(Here the values 1,2 are arguments)\n",
        "\n",
        "sum(1,2) # Output (3)\n",
        "\n",
        "* Types of arguments in python:-Python functions can contain two types of arguments:\n",
        "\n",
        "-> Positional Arguments\n",
        "\n",
        "-> Keyword Arguments\n",
        "\n",
        "* Positional Arguments:- Positional Arguments are needed to be included in proper order i.e the first argument is always listed first when the function is called, second argument needs to be called second and so on.\n",
        "\n",
        "Example:\n",
        "\n",
        "def fun(s1,s2):\n",
        "  print(s1+s2)\n",
        "  \n",
        "fun(\"Today's\",\"healthy lunch\") # output( Today's healthy lunch)\n",
        "\n",
        "* Keyword Arguments:- Keyword Arguments is an argument passed to a function or method which is preceded by a keyword and equal to sign (=). The order of keyword argument with respect to another keyword argument does not matter because the values are being explicitly assigned.\n",
        "\n",
        "def fun(s1, s2):\n",
        "  \n",
        "print(s1 + s2) #Here we are explicitly assigning the values fu\n",
        "\n",
        "(s1=\"Geeks\", s2=\"forGeeks\")\n",
        "\n",
        "Parameters:- A parameter is the variable defined within the parentheses when we declare a function.\n",
        "\n",
        "Example: Here a,b are the parameters\n",
        "\n",
        "def sum(a,b):\n",
        "  \n",
        "  print(a+b)\n",
        "  \n",
        "sum(1,2) # output(3)\n",
        "\n",
        "\n",
        "\n"
      ],
      "metadata": {
        "id": "OiwntPisUzox"
      }
    },
    {
      "cell_type": "markdown",
      "source": [
        "3. What are the different ways to define and call a function in Python?\n",
        "\n",
        "   ->Defining a Function\n",
        "We can define a function in Python, using the def keyword. We can add any type of functionalities and properties to it as we require.\n",
        "\n",
        "The def keyword stands for define. It is used to create a user-defined function. It marks the beginning of a function block and allows you to group a set of statements so they can be reused when the function is called.\n",
        "\n",
        "Syntax:\n",
        "\n",
        "def function_name(parameters):\n",
        "\n",
        "function body...\n",
        "\n",
        "Explanation:\n",
        "\n",
        "def: Starts the function definition.\n",
        "\n",
        "function_name: Name of the function.\n",
        "\n",
        "parameters: Inputs passed to the function (inside ()), optional.\n",
        "\n",
        "Indented code: The function body that runs when called.\n",
        "Here, we define a function using def that prints a welcome message when called.\n",
        "\n",
        "def fun():\n",
        "\n",
        "print(\"Welcome to our home\")\n",
        "\n",
        "* Calling a Function:- After creating a function in Python we can call it by using the name of the functions followed by parenthesis containing parameters of that particular function.\n",
        "\n",
        "def fun():\n",
        "    \n",
        "  print(\"Welcome to our home\")\n",
        "    \n",
        "fun() # Driver code to call a function\n",
        "\n",
        "output- Welcome to our home\n",
        "\n"
      ],
      "metadata": {
        "id": "TxWE2dAgZstj"
      }
    },
    {
      "cell_type": "markdown",
      "source": [
        "4. What is the purpose of the `return` statement in a Python function?\n",
        "\n",
        "   -> A return statement is used to end the execution of the function call and it \"returns\" the value of the expression following the return keyword to the caller. The statements after the return statements are not executed. If the return statement is without any expression, then the special value None is returned. A return statement is overall used to invoke a function so that the passed statements can be executed.\n",
        "\n",
        "   Example:\n",
        "\n",
        "   def add(a, b):\n",
        "   \n",
        "   return a + b (returning sum of a and b)\n",
        "\n",
        "   def is_true(a): (returning boolean of a)\n",
        "  \n",
        "   return bool(a)\n",
        "\n",
        "calling function:\n",
        "\n",
        "res = add(2, 3)\n",
        "\n",
        "print(res)\n",
        "\n",
        "res = is_true(2<5)\n",
        "\n",
        "print(res) # Output (5, True)\n",
        "\n",
        "* Returning Multiple Values:-Python allows you to return multiple values from a function by returning them as a tuple\n",
        "\n",
        "* Returning List:- We can also return more complex data structures such as lists or dictionaries from a function\n",
        "\n",
        "def fun(n):\n",
        "\n",
        "return [n**2, n**3]\n",
        "\n",
        "res = fun(3)\n",
        "\n",
        "print(res) # output [9,27]\n",
        "In this case, the function fun() returns a list containing the square and cube of the input number.\n",
        "\n",
        "* Function returning another function:- In Python, functions are first-class citizens, meaning you can return a function from another function. This is useful for creating higher-order functions.\n",
        "\n",
        "Here's an example of a function that returns another function:\n",
        "\n",
        "def fun1(msg):\n",
        "\n",
        "def fun2():\n",
        "\n",
        "return f\"Message: {msg}\" # Using the outer function's message\n",
        "\n",
        "return fun2\n",
        "\n",
        "fun3 = fun1(\"Hello, World!\") # Getting the inner function\n",
        "\n",
        "print(fun3()) # Calling the inner function\n",
        "\n"
      ],
      "metadata": {
        "id": "l7RBGVI7cCQF"
      }
    },
    {
      "cell_type": "markdown",
      "source": [
        "5.  What are iterators in Python and how do they differ from iterables?\n",
        "    \n",
        "    -> In Python, iterables are objects that can be iterated over, meaning you can loop through their elements one by one. Examples include lists, tuples, strings, and dictionaries. An object is considered an iterable if it implements the __iter__() method, which returns an iterator.\n",
        "Iterators, on the other hand, are objects that facilitate the actual iteration process. They are responsible for producing the next item in a sequence and maintaining the state of the iteration. An object is considered an iterator if it implements both the __iter__() and __next__() methods.\n",
        "\n",
        "Key differences:\n",
        "\n",
        "* Purpose: An iterable is a container of items that can be iterated over, while an iterator is an object that performs the iteration by providing items one at a time.\n",
        "\n",
        "* Methods: Iterables primarily implement __iter__(). Iterators implement both __iter__() (which typically returns self) and __next__().\n",
        "\n",
        "* State: Iterators maintain an internal state to keep track of the current position in the sequence, allowing them to return the next element upon request. Iterables themselves do not typically maintain this iteration state.\n",
        "\n",
        "* Relationship: Every iterator is also an iterable (because it implements __iter__()), but not every iterable is an iterator. You can obtain an iterator from an iterable using the built-in iter() function."
      ],
      "metadata": {
        "id": "vq2f0ClChB09"
      }
    },
    {
      "cell_type": "markdown",
      "source": [
        "6. Explain the concept of generators in Python and how they are defined.\n",
        "   \n",
        "   -> Generators in Python are a type of iterable that produce values one at a time, on demand, rather than storing all values in memory simultaneously. They are particularly useful for working with large datasets or infinite sequences where storing the entire sequence might be inefficient or impossible.\n",
        "\n",
        "Key characteristics of generators:\n",
        "\n",
        "Memory Efficiency: Generators compute and yield values only when requested, making them memory-efficient, especially for large datasets.\n",
        "Lazy Evaluation: Values are generated \"on the fly,\" meaning computation only happens when the next value is needed.\n",
        "\n",
        "Iteration: Generators are iterators, meaning they can be looped over using for loops or consumed with functions like next().\n",
        "\n",
        "How Generators are Defined:\n",
        "Generators are defined in Python using two primary methods:\n",
        "\n",
        "Generator Functions:\n",
        "* A generator function is defined like a regular Python function using the def keyword.\n",
        "* The crucial difference is that instead of using return to send back a value and terminate the function, generator functions use the yield keyword.\n",
        "* When yield is encountered, the function's state (including local variables) is frozen, and the yielded value is returned. The next time the generator is called (e.g., in a loop), execution resumes from where it left off.\n",
        "\n",
        "  def my_generator_function():\n",
        "        \n",
        "  yield 1\n",
        "  \n",
        "  yield 2\n",
        "        \n",
        "  yield 3\n",
        "\n",
        "  gen = my_generator_function()\n",
        "    \n",
        "  print(next(gen)) # Output: 1\n",
        "    \n",
        "  print(next(gen)) # Output: 2\n",
        "  \n",
        "  for value in my_generator_function():\n",
        "        \n",
        "  print(value) # Output: 1, 2, 3\n",
        "\n",
        "Generator Expressions:\n",
        "* Generator expressions provide a concise way to create generators, similar to list comprehensions but using parentheses instead of square brackets.\n",
        "* They are particularly useful for simple, one-off generator creation."
      ],
      "metadata": {
        "id": "5vggJ215h3gc"
      }
    },
    {
      "cell_type": "markdown",
      "source": [
        "7.  What are the advantages of using generators over regular functions?\n",
        "    \n",
        "    -> Generators offer advantages over regular functions through memory efficiency, lazy evaluation, and the ability to represent infinite sequences\n",
        "\n",
        "    Here are the key advantages:\n",
        "* Memory Efficiency: Generators produce values on-demand using yield, rather than creating a complete list in memory. This is crucial for handling large datasets or infinite sequences, as it avoids high memory consumption.\n",
        "* Lazy Evaluation: Values are computed only when requested, improving performance and reducing computational overhead when the entire dataset is not immediately needed.\n",
        "* Infinite Sequences: Generators can represent infinite streams of data, like the Fibonacci sequence, because they don't need to store all elements at once. They produce the next value in the sequence as needed.\n",
        "* Pipelining: Generators can be chained together to create efficient data processing pipelines. Each generator in the pipeline processes a segment of data, forwarding it to the next stage without holding the entire dataset in memory.\n",
        "* Simplified Code: For complex iteration logic, generators can offer cleaner and more straightforward syntax compared to writing traditional loops, enhancing code clarity.\n",
        "* Execution State Retention: Generator functions can pause their execution with yield and resume later, maintaining their internal state between calls. Regular functions, in contrast, complete their execution after returning a single value."
      ],
      "metadata": {
        "id": "UX6lSRhYk_kD"
      }
    },
    {
      "cell_type": "markdown",
      "source": [
        "8.  What is a lambda function in Python and when is it typically used?\n",
        "    \n",
        "    -> A lambda function in Python is a small, anonymous function defined using the lambda keyword. Unlike regular functions defined with def, lambda functions are typically used for short, one-time operations and do not require a formal name. They can take any number of arguments but are limited to a single expression, which is evaluated and returned.\n",
        "* Using with filter() :- The filter() function in Python takes in a function and a list as arguments. This offers an elegant way to filter out all the elements of a sequence \"sequence\", for which the function returns True.\n",
        "\n",
        "Here, the lambda is used as a filtering condition to keep only even numbers from the list.\n",
        "\n",
        "n = [1, 2, 3, 4, 5, 6]\n",
        "\n",
        "even = filter(lambda x: x % 2 == 0, n)\n",
        "\n",
        "print(list(even)) # output(2,4,6)\n",
        "\n",
        "* Using with map() :- The map() function in Python takes in a function and a list as an argument. The function is called with a lambda function and a new list is returned which contains all the lambda-modified items returned by that function for each item.\n",
        "\n",
        "a = [1, 2, 3, 4]\n",
        "\n",
        "b = map(lambda x: x * 2, a)\n",
        "\n",
        "print(list(b)) # output (2,4,6,8)\n",
        "\n",
        "* Using with reduce() :- The reduce() function in Python takes in a function and a list as an argument. The function is called with a lambda function and an iterable and a new reduced result is returned. This performs a repetitive operation over the pairs of the iterable. The reduce() function belongs to the functools module.\n",
        "\n",
        "from functools import reduce\n",
        "\n",
        "a = [1, 2, 3, 4]\n",
        "\n",
        "b = reduce(lambda x, y: x * y, a)\n",
        "\n",
        "print(b) #output(24)\n",
        "\n",
        "\n",
        "\n",
        "\n",
        "\n"
      ],
      "metadata": {
        "id": "qxoxhBZrAjhF"
      }
    },
    {
      "cell_type": "markdown",
      "source": [
        "9. Explain the purpose and usage of the `map()` function in Python.\n",
        "   \n",
        "   -> map() function in Python applies a given function to each element of an iterable (list, tuple, set, etc.) and returns a map object (iterator). It is a higher-order function used for uniform element-wise transformations, enabling concise and efficient code.\n",
        "\n",
        "   Parameters:\n",
        "\n",
        "* function: The function to apply to every element of the iterable.\n",
        "\n",
        "* iterable: One or more iterable objects (list, tuple, etc.) whose elements will be processed.\n",
        "\n",
        "Converting map object to a list:-\n",
        "By default, map() function returns a map object, which is an iterator. In many cases, we will need to convert this iterator to a list to work with the results directly.\n",
        "\n",
        "def double(val):  # Custom function to be applied\n",
        "\n",
        "return val * 2     # in map\n",
        "\n",
        "a = [1, 2, 3, 4]    \n",
        "\n",
        "res = list(map(double, a)) # apply double on every member\n",
        "\n",
        "print(res) # Output [2,4,6,8]\n",
        "\n",
        "(map(double, a) applies double() to each element in a.\n",
        "list() converts the map object to a list.)\n",
        "\n",
        "map() with lambda:- We can use a lambda function instead of a custom function with map() to make code shorter and easier. Let's see how to improve above code for better readability.\n",
        "\n",
        "a = [1, 2, 3, 4]\n",
        "\n",
        "res = list(map(lambda x: x ** 2, a))\n",
        "\n",
        "print(res)  # Output [1,4,9,16]\n",
        "\n",
        "map() with multiple iterables :- We can use map() with multiple iterables if the function we are applying takes more than one argument.\n",
        "\n",
        "Example: In this example, map() takes two iterables (a and b) and applies lambda function to add corresponding elements from both lists.\n",
        "\n",
        "a = [1, 2, 3]\n",
        "\n",
        "b = [4, 5, 6]\n",
        "\n",
        "res = map(lambda x, y: x + y, a, b)\n",
        "\n",
        "print(list(res)) #output [5,7,9]\n",
        "\n",
        "(map() takes x from a and y from b and adds them.)\n",
        "\n",
        "Converting strings to Uppercase:- This example shows how we can use map() to convert a list of strings to uppercase.\n",
        "\n",
        "fruits = ['apple', 'banana', 'cherry']\n",
        "\n",
        "res = map(str.upper, fruits)\n",
        "\n",
        "print(list(res)) # Output ( ['APPLE', 'BANANA', 'CHERRY'])\n",
        "\n",
        "\n",
        "\n"
      ],
      "metadata": {
        "id": "XEDr0AR1EMQV"
      }
    },
    {
      "cell_type": "markdown",
      "source": [
        "10. What is the difference between `map()`, `reduce()`, and `filter()` functions in Python?\n",
        "    \n",
        "    -> map(function, iterable):\n",
        "\n",
        "Purpose: Applies a given function to each item in an iterable (like a list or tuple) and returns an iterator that yields the results. It transforms each element independently.\n",
        "\n",
        "Output: An iterator (which can be converted to a list, tuple, etc.) of the same length as the input iterable, containing the results of applying the function to each element.\n",
        "\n",
        "Example: To square each number in a list.\n",
        "\n",
        "  numbers = [1, 2, 3, 4]\n",
        "  squared_numbers = list(map(lambda x: x**2, numbers))\n",
        "        # squared_numbers will be [1, 4, 9, 16]\n",
        "\n",
        "* filter(function, iterable):\n",
        "\n",
        "Purpose: Constructs an iterator from elements of an iterable for which a function returns True. The function acts as a predicate, filtering out elements that do not satisfy the condition.\n",
        "\n",
        "Output: An iterator (which can be converted to a list, tuple, etc.) containing only the elements from the input iterable for which the function returned True. The length of the output can be less than or equal to the input.\n",
        "\n",
        "Example: To get only even numbers from a list.\n",
        "\n",
        "numbers = [1, 2, 3, 4, 5, 6]\n",
        "\n",
        "even_numbers = list(filter(lambda x: x % 2 == 0, numbers))\n",
        "        # even_numbers will be [2, 4, 6]\n",
        "\n",
        "* reduce(function, iterable[, initial]):\n",
        "\n",
        "Purpose: Applies a function of two arguments cumulatively to the items of an iterable, from left to right, so as to reduce the iterable to a single value. This function is part of the functools module in Python 3 and needs to be imported.\n",
        "\n",
        "Output: A single, accumulated value.\n",
        "\n",
        "Example: To calculate the sum of all numbers in a list.\n",
        "\n",
        "from functools import reduce\n",
        "\n",
        "numbers = [1, 2, 3, 4]\n",
        "\n",
        "sum_of_numbers = reduce(lambda x, y: x + y, numbers)\n",
        "        # sum_of_numbers will be 10"
      ],
      "metadata": {
        "id": "pACplNfTADsi"
      }
    },
    {
      "cell_type": "markdown",
      "source": [
        "11. Using pen & Paper write the internal mechanism for sum operation using  reduce function on this given\n",
        "list:[47,11,42,13];\n",
        "\n",
        "   ->![WhatsApp Image 2025-10-03 at 14.56.06_6591f547.jpg](data:image/jpeg;base64,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)\n",
        "\n",
        "     \n"
      ],
      "metadata": {
        "id": "71tDsDy0ZBPv"
      }
    },
    {
      "cell_type": "markdown",
      "source": [
        "**Practical Questions:**"
      ],
      "metadata": {
        "id": "v26bpeSdCtLR"
      }
    },
    {
      "cell_type": "markdown",
      "source": [
        "1. Write a Python function that takes a list of numbers as input and returns the sum of all even numbers in\n",
        "the list."
      ],
      "metadata": {
        "id": "wkI6AVGHCzXa"
      }
    },
    {
      "cell_type": "code",
      "source": [
        "def sum_of_evens(numbers):\n",
        "    \"\"\"Return the sum of all even numbers in the list.\"\"\"\n",
        "    total = 0\n",
        "    for num in numbers:\n",
        "        if num % 2 == 0:   # check even\n",
        "            total += num\n",
        "    return total\n",
        "\n",
        "# Example usage\n",
        "nums = [47, 11, 42, 13, 20, 8]\n",
        "print(\"Sum of even numbers:\", sum_of_evens(nums))\n"
      ],
      "metadata": {
        "colab": {
          "base_uri": "https://localhost:8080/"
        },
        "id": "FH6Iy7WxC7A4",
        "outputId": "ae3cf8ad-a6f5-4294-d1d1-50fa2ecaec77"
      },
      "execution_count": null,
      "outputs": [
        {
          "output_type": "stream",
          "name": "stdout",
          "text": [
            "Sum of even numbers: 70\n"
          ]
        }
      ]
    },
    {
      "cell_type": "markdown",
      "source": [
        "2. Create a Python function that accepts a string and returns the reverse of that string."
      ],
      "metadata": {
        "id": "aNYGyjnQDRhC"
      }
    },
    {
      "cell_type": "code",
      "source": [
        "def reverse_string(text):\n",
        "    \"\"\"Return the reverse of the given string.\"\"\"\n",
        "    return text[::-1]\n",
        "\n",
        "# Example usage\n",
        "s = \"Hello World\"\n",
        "print(\"Reversed string:\", reverse_string(s))\n"
      ],
      "metadata": {
        "colab": {
          "base_uri": "https://localhost:8080/"
        },
        "id": "fXTXytRtDY5R",
        "outputId": "5131a4f2-602e-4e41-99a5-b966f1fcfee4"
      },
      "execution_count": null,
      "outputs": [
        {
          "output_type": "stream",
          "name": "stdout",
          "text": [
            "Reversed string: dlroW olleH\n"
          ]
        }
      ]
    },
    {
      "cell_type": "markdown",
      "source": [
        "3. Implement a Python function that takes a list of integers and returns a new list containing the squares of\n",
        "each number."
      ],
      "metadata": {
        "id": "wRVmd7wJDt2Z"
      }
    },
    {
      "cell_type": "code",
      "source": [
        "def square_list(numbers):\n",
        "    \"\"\"Return a new list containing the squares of each number.\"\"\"\n",
        "    squared = []\n",
        "    for num in numbers:\n",
        "        squared.append(num ** 2)\n",
        "    return squared\n",
        "\n",
        "# Example usage\n",
        "nums = [2, 4, 6, 8]\n",
        "print(\"Original list:\", nums)\n",
        "print(\"Squared list:\", square_list(nums))\n"
      ],
      "metadata": {
        "colab": {
          "base_uri": "https://localhost:8080/"
        },
        "id": "cAAPkrNtD4eB",
        "outputId": "d32504ec-2773-4f30-839b-e454ed0d53f5"
      },
      "execution_count": null,
      "outputs": [
        {
          "output_type": "stream",
          "name": "stdout",
          "text": [
            "Original list: [2, 4, 6, 8]\n",
            "Squared list: [4, 16, 36, 64]\n"
          ]
        }
      ]
    },
    {
      "cell_type": "markdown",
      "source": [
        "4. Write a Python function that checks if a given number is prime or not from 1 to 200.\n"
      ],
      "metadata": {
        "id": "-lu8FOXBEGkB"
      }
    },
    {
      "cell_type": "code",
      "source": [
        "def is_prime(n):\n",
        "    \"\"\"Check if a number is prime.\"\"\"\n",
        "    if n <= 1:\n",
        "        return False\n",
        "    for i in range(2, int(n**0.5) + 1):  # check divisors up to sqrt(n)\n",
        "        if n % i == 0:\n",
        "            return False\n",
        "    return True\n",
        "\n",
        "# Test from 1 to 200\n",
        "for num in range(1, 201):\n",
        "    if is_prime(num):\n",
        "        print(num, \"is Prime\")\n",
        "    else:\n",
        "        print(num, \"is Not Prime\")\n"
      ],
      "metadata": {
        "colab": {
          "base_uri": "https://localhost:8080/"
        },
        "id": "7HNXeOJEEWnZ",
        "outputId": "7be8e138-a0f2-45ae-c616-5f3e5c7f97a5"
      },
      "execution_count": null,
      "outputs": [
        {
          "output_type": "stream",
          "name": "stdout",
          "text": [
            "1 is Not Prime\n",
            "2 is Prime\n",
            "3 is Prime\n",
            "4 is Not Prime\n",
            "5 is Prime\n",
            "6 is Not Prime\n",
            "7 is Prime\n",
            "8 is Not Prime\n",
            "9 is Not Prime\n",
            "10 is Not Prime\n",
            "11 is Prime\n",
            "12 is Not Prime\n",
            "13 is Prime\n",
            "14 is Not Prime\n",
            "15 is Not Prime\n",
            "16 is Not Prime\n",
            "17 is Prime\n",
            "18 is Not Prime\n",
            "19 is Prime\n",
            "20 is Not Prime\n",
            "21 is Not Prime\n",
            "22 is Not Prime\n",
            "23 is Prime\n",
            "24 is Not Prime\n",
            "25 is Not Prime\n",
            "26 is Not Prime\n",
            "27 is Not Prime\n",
            "28 is Not Prime\n",
            "29 is Prime\n",
            "30 is Not Prime\n",
            "31 is Prime\n",
            "32 is Not Prime\n",
            "33 is Not Prime\n",
            "34 is Not Prime\n",
            "35 is Not Prime\n",
            "36 is Not Prime\n",
            "37 is Prime\n",
            "38 is Not Prime\n",
            "39 is Not Prime\n",
            "40 is Not Prime\n",
            "41 is Prime\n",
            "42 is Not Prime\n",
            "43 is Prime\n",
            "44 is Not Prime\n",
            "45 is Not Prime\n",
            "46 is Not Prime\n",
            "47 is Prime\n",
            "48 is Not Prime\n",
            "49 is Not Prime\n",
            "50 is Not Prime\n",
            "51 is Not Prime\n",
            "52 is Not Prime\n",
            "53 is Prime\n",
            "54 is Not Prime\n",
            "55 is Not Prime\n",
            "56 is Not Prime\n",
            "57 is Not Prime\n",
            "58 is Not Prime\n",
            "59 is Prime\n",
            "60 is Not Prime\n",
            "61 is Prime\n",
            "62 is Not Prime\n",
            "63 is Not Prime\n",
            "64 is Not Prime\n",
            "65 is Not Prime\n",
            "66 is Not Prime\n",
            "67 is Prime\n",
            "68 is Not Prime\n",
            "69 is Not Prime\n",
            "70 is Not Prime\n",
            "71 is Prime\n",
            "72 is Not Prime\n",
            "73 is Prime\n",
            "74 is Not Prime\n",
            "75 is Not Prime\n",
            "76 is Not Prime\n",
            "77 is Not Prime\n",
            "78 is Not Prime\n",
            "79 is Prime\n",
            "80 is Not Prime\n",
            "81 is Not Prime\n",
            "82 is Not Prime\n",
            "83 is Prime\n",
            "84 is Not Prime\n",
            "85 is Not Prime\n",
            "86 is Not Prime\n",
            "87 is Not Prime\n",
            "88 is Not Prime\n",
            "89 is Prime\n",
            "90 is Not Prime\n",
            "91 is Not Prime\n",
            "92 is Not Prime\n",
            "93 is Not Prime\n",
            "94 is Not Prime\n",
            "95 is Not Prime\n",
            "96 is Not Prime\n",
            "97 is Prime\n",
            "98 is Not Prime\n",
            "99 is Not Prime\n",
            "100 is Not Prime\n",
            "101 is Prime\n",
            "102 is Not Prime\n",
            "103 is Prime\n",
            "104 is Not Prime\n",
            "105 is Not Prime\n",
            "106 is Not Prime\n",
            "107 is Prime\n",
            "108 is Not Prime\n",
            "109 is Prime\n",
            "110 is Not Prime\n",
            "111 is Not Prime\n",
            "112 is Not Prime\n",
            "113 is Prime\n",
            "114 is Not Prime\n",
            "115 is Not Prime\n",
            "116 is Not Prime\n",
            "117 is Not Prime\n",
            "118 is Not Prime\n",
            "119 is Not Prime\n",
            "120 is Not Prime\n",
            "121 is Not Prime\n",
            "122 is Not Prime\n",
            "123 is Not Prime\n",
            "124 is Not Prime\n",
            "125 is Not Prime\n",
            "126 is Not Prime\n",
            "127 is Prime\n",
            "128 is Not Prime\n",
            "129 is Not Prime\n",
            "130 is Not Prime\n",
            "131 is Prime\n",
            "132 is Not Prime\n",
            "133 is Not Prime\n",
            "134 is Not Prime\n",
            "135 is Not Prime\n",
            "136 is Not Prime\n",
            "137 is Prime\n",
            "138 is Not Prime\n",
            "139 is Prime\n",
            "140 is Not Prime\n",
            "141 is Not Prime\n",
            "142 is Not Prime\n",
            "143 is Not Prime\n",
            "144 is Not Prime\n",
            "145 is Not Prime\n",
            "146 is Not Prime\n",
            "147 is Not Prime\n",
            "148 is Not Prime\n",
            "149 is Prime\n",
            "150 is Not Prime\n",
            "151 is Prime\n",
            "152 is Not Prime\n",
            "153 is Not Prime\n",
            "154 is Not Prime\n",
            "155 is Not Prime\n",
            "156 is Not Prime\n",
            "157 is Prime\n",
            "158 is Not Prime\n",
            "159 is Not Prime\n",
            "160 is Not Prime\n",
            "161 is Not Prime\n",
            "162 is Not Prime\n",
            "163 is Prime\n",
            "164 is Not Prime\n",
            "165 is Not Prime\n",
            "166 is Not Prime\n",
            "167 is Prime\n",
            "168 is Not Prime\n",
            "169 is Not Prime\n",
            "170 is Not Prime\n",
            "171 is Not Prime\n",
            "172 is Not Prime\n",
            "173 is Prime\n",
            "174 is Not Prime\n",
            "175 is Not Prime\n",
            "176 is Not Prime\n",
            "177 is Not Prime\n",
            "178 is Not Prime\n",
            "179 is Prime\n",
            "180 is Not Prime\n",
            "181 is Prime\n",
            "182 is Not Prime\n",
            "183 is Not Prime\n",
            "184 is Not Prime\n",
            "185 is Not Prime\n",
            "186 is Not Prime\n",
            "187 is Not Prime\n",
            "188 is Not Prime\n",
            "189 is Not Prime\n",
            "190 is Not Prime\n",
            "191 is Prime\n",
            "192 is Not Prime\n",
            "193 is Prime\n",
            "194 is Not Prime\n",
            "195 is Not Prime\n",
            "196 is Not Prime\n",
            "197 is Prime\n",
            "198 is Not Prime\n",
            "199 is Prime\n",
            "200 is Not Prime\n"
          ]
        }
      ]
    },
    {
      "cell_type": "markdown",
      "source": [
        "5. Create an iterator class in Python that generates the Fibonacci sequence up to a specified number of\n",
        "terms.\n",
        "\n",
        "  "
      ],
      "metadata": {
        "id": "DluPqeQ2Ef4Z"
      }
    },
    {
      "cell_type": "code",
      "source": [
        "class FibonacciIterator:\n",
        "    def __init__(self, n_terms):\n",
        "        self.n_terms = n_terms   # total terms\n",
        "        self.count = 0           # track generated terms\n",
        "        self.a, self.b = 0, 1    # first two Fibonacci numbers\n",
        "\n",
        "    def __iter__(self):\n",
        "        return self\n",
        "\n",
        "    def __next__(self):\n",
        "        if self.count >= self.n_terms:\n",
        "            raise StopIteration   # end iteration\n",
        "        if self.count == 0:\n",
        "            self.count += 1\n",
        "            return self.a\n",
        "        elif self.count == 1:\n",
        "            self.count += 1\n",
        "            return self.b\n",
        "        else:\n",
        "            self.a, self.b = self.b, self.a + self.b\n",
        "            self.count += 1\n",
        "            return self.b\n",
        "\n",
        "\n",
        "# Example usage\n",
        "fib = FibonacciIterator(10)   # generate 10 terms\n",
        "for num in fib:\n",
        "    print(num, end=\" \")\n"
      ],
      "metadata": {
        "colab": {
          "base_uri": "https://localhost:8080/"
        },
        "id": "YEhCEQUbEq5p",
        "outputId": "c7ec1219-546e-426a-cc97-06a754d95743"
      },
      "execution_count": null,
      "outputs": [
        {
          "output_type": "stream",
          "name": "stdout",
          "text": [
            "0 1 1 2 3 5 8 13 21 34 "
          ]
        }
      ]
    },
    {
      "cell_type": "markdown",
      "source": [
        "6. Write a generator function in Python that yields the powers of 2 up to a given exponent."
      ],
      "metadata": {
        "id": "1k703HZHE6WJ"
      }
    },
    {
      "cell_type": "code",
      "source": [
        "def powers_of_two(n):\n",
        "    \"\"\"Yield powers of 2 from 2^0 up to 2^n.\"\"\"\n",
        "    for exp in range(n + 1):\n",
        "        yield 2 ** exp\n",
        "\n",
        "\n",
        "# Example usage\n",
        "for value in powers_of_two(8):\n",
        "    print(value, end=\" \")\n"
      ],
      "metadata": {
        "colab": {
          "base_uri": "https://localhost:8080/"
        },
        "id": "Kz-ODBaKFBYR",
        "outputId": "0f039cc3-8e0c-40ac-f783-67ec942d57e1"
      },
      "execution_count": null,
      "outputs": [
        {
          "output_type": "stream",
          "name": "stdout",
          "text": [
            "1 2 4 8 16 32 64 128 256 "
          ]
        }
      ]
    },
    {
      "cell_type": "markdown",
      "source": [
        "7. Implement a generator function that reads a file line by line and yields each line as a string."
      ],
      "metadata": {
        "id": "xFQERtQBFSAb"
      }
    },
    {
      "cell_type": "code",
      "source": [
        "import random\n",
        "def ReadRandomLine():\n",
        "  f=open(\"Poem.txt\",\"r\")\n",
        "  lines=f.readlines()\n",
        "  print(lines)\n",
        "  length=len(lines)\n",
        "  random.randint(0,len(lines)-1)\n",
        "  f.colse()\n",
        "  ReadRandomLine()"
      ],
      "metadata": {
        "id": "5eLDCryuFoOS"
      },
      "execution_count": null,
      "outputs": []
    },
    {
      "cell_type": "code",
      "metadata": {
        "id": "d7f85869"
      },
      "source": [
        "# Create a dummy file named sample.txt\n",
        "with open(\"sample.txt\", \"w\") as f:\n",
        "    f.write(\"This is line 1.\\n\")\n",
        "    f.write(\"This is line 2.\\n\")\n",
        "    f.write(\"This is line 3.\\n\")"
      ],
      "execution_count": null,
      "outputs": []
    },
    {
      "cell_type": "markdown",
      "source": [
        "8.  Use a lambda function in Python to sort a list of tuples based on the second element of each tuple.\n",
        "\n",
        "  "
      ],
      "metadata": {
        "id": "xqiCBbYMIJlr"
      }
    },
    {
      "cell_type": "code",
      "source": [
        "# Sample list of tuples\n",
        "data = [(1, 4), (3, 1), (5, 9), (2, 6)]\n",
        "\n",
        "# Sort by second element of each tuple\n",
        "sorted_data = sorted(data, key=lambda x: x[1])\n",
        "\n",
        "print(\"Original list:\", data)\n",
        "print(\"Sorted list:\", sorted_data)\n"
      ],
      "metadata": {
        "colab": {
          "base_uri": "https://localhost:8080/"
        },
        "id": "Dv_uIlm1Jc6J",
        "outputId": "bdbbacda-b080-445c-9565-3d08c9d7babe"
      },
      "execution_count": null,
      "outputs": [
        {
          "output_type": "stream",
          "name": "stdout",
          "text": [
            "Original list: [(1, 4), (3, 1), (5, 9), (2, 6)]\n",
            "Sorted list: [(3, 1), (1, 4), (2, 6), (5, 9)]\n"
          ]
        }
      ]
    },
    {
      "cell_type": "markdown",
      "source": [
        "9.  Write a Python program that uses `map()` to convert a list of temperatures from Celsius to Fahrenheit."
      ],
      "metadata": {
        "id": "jYF6KVwyJh_n"
      }
    },
    {
      "cell_type": "code",
      "source": [
        "# List of temperatures in Celsius\n",
        "celsius = [0, 20, 37, 100]\n",
        "\n",
        "# Convert to Fahrenheit using map + lambda\n",
        "fahrenheit = list(map(lambda c: (c * 9/5) + 32, celsius))\n",
        "\n",
        "print(\"Celsius:\", celsius)\n",
        "print(\"Fahrenheit:\", fahrenheit)\n"
      ],
      "metadata": {
        "colab": {
          "base_uri": "https://localhost:8080/"
        },
        "id": "UitijQ_UJoCp",
        "outputId": "5542fbe0-0e53-4fad-9d14-b3564e7aad93"
      },
      "execution_count": null,
      "outputs": [
        {
          "output_type": "stream",
          "name": "stdout",
          "text": [
            "Celsius: [0, 20, 37, 100]\n",
            "Fahrenheit: [32.0, 68.0, 98.6, 212.0]\n"
          ]
        }
      ]
    },
    {
      "cell_type": "markdown",
      "source": [
        "10. Create a Python program that uses `filter()` to remove all the vowels from a given string.\n"
      ],
      "metadata": {
        "id": "qnSWJnTTKy3T"
      }
    },
    {
      "cell_type": "code",
      "source": [
        "def remove_vowels(text):\n",
        "    vowels = \"aeiouAEIOU\"\n",
        "    # keep only characters that are NOT vowels\n",
        "    return \"\".join(filter(lambda ch: ch not in vowels, text))\n",
        "\n",
        "\n",
        "# Example usage\n",
        "s = \"Hello World, Python is amazing!\"\n",
        "print(\"Original String:\", s)\n",
        "print(\"Without Vowels:\", remove_vowels(s))\n"
      ],
      "metadata": {
        "colab": {
          "base_uri": "https://localhost:8080/"
        },
        "id": "3MHEr34JK6MN",
        "outputId": "0783579b-808d-4267-ceef-bbe4a7067944"
      },
      "execution_count": null,
      "outputs": [
        {
          "output_type": "stream",
          "name": "stdout",
          "text": [
            "Original String: Hello World, Python is amazing!\n",
            "Without Vowels: Hll Wrld, Pythn s mzng!\n"
          ]
        }
      ]
    },
    {
      "cell_type": "markdown",
      "source": [
        "11. Imagine an accounting routine used in a book shop. It works on a list with sublists, which look like this:\n",
        "\n",
        "\n",
        "\n",
        "\n",
        "\n",
        "\n",
        "\n",
        "Write a Python program, which returns a list with 2-tuples. Each tuple consists of the order number and the\n",
        "product of the price per item and the quantity. The product should be increased by 10,- € if the value of the\n",
        "order is smaller than 100,00 €.\n",
        "\n",
        "Write a Python program using lambda and map."
      ],
      "metadata": {
        "id": "_1wi3XQsLH8W"
      }
    },
    {
      "cell_type": "code",
      "source": [
        "orders = [\n",
        "    [34587, \"Learning Python, Mark Lutz\", 4, 40.95],\n",
        "    [98762, \"Programming Python, Mark Lutz\", 5, 56.80],\n",
        "    [77226, \"Head First Python, Paul Barry\", 3, 32.95],\n",
        "    [88112, \"Einführung in Python3, Bernd Klein\", 3, 24.99]\n",
        "]\n",
        "\n",
        "# Using map and lambda\n",
        "result = list(map(lambda order: (\n",
        "    order[0],\n",
        "    order[2] * order[3] if order[2] * order[3] >= 100 else order[2] * order[3] + 10\n",
        "), orders))\n",
        "\n",
        "print(result)\n"
      ],
      "metadata": {
        "colab": {
          "base_uri": "https://localhost:8080/"
        },
        "id": "jiHZ0VipZJ_o",
        "outputId": "f8e3340a-1762-4a1c-a484-7fea8a4ee917"
      },
      "execution_count": null,
      "outputs": [
        {
          "output_type": "stream",
          "name": "stdout",
          "text": [
            "[(34587, 163.8), (98762, 284.0), (77226, 108.85000000000001), (88112, 84.97)]\n"
          ]
        }
      ]
    }
  ]
}